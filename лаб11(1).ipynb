{
  "cells": [
    {
      "cell_type": "code",
      "execution_count": 9,
      "metadata": {
        "trusted": true
      },
      "outputs": [
        {
          "name": "stdout",
          "output_type": "stream",
          "text": [
            "Метод лівих прямокутників :  0.8469\n",
            "Метод правих прямокутників :  0.8056\n",
            "Метод середніх прямокутників :  0.8469\n",
            "Перевірка методів прямокутника =  0.826\n"
          ]
        }
      ],
      "source": [
        "# Білоусова Вероніка\n",
        "# Варіант 1\n",
        "\n",
        "#Обчислення інтеграла методом прямокутників\n",
        "from scipy import integrate \n",
        "import numpy as np\n",
        "eps = 0.01\n",
        "a = 0.8\n",
        "b = 1.6\n",
        "n = 10\n",
        "\n",
        "def f1(x):\n",
        "    return np.sqrt(2) / np.sqrt(x**2 + 0.5)\n",
        "\n",
        "def left_rec(f1,a,b,n): \n",
        "    h=(b-a)/n \n",
        "    sum=0 \n",
        "    for i in range(0,n): \n",
        "        sum+=f1(a+i*h) \n",
        "    return sum*h \n",
        "\n",
        "v,err = integrate.quad(f1,a,b) #Перевірка\n",
        "\n",
        "#Перевірка точності за правилом Рунге:\n",
        "if abs(left_rec(f1,a,b,2*n) - left_rec(f1,a,b,n))/3. <=eps:\n",
        "    print(\"Метод лівих прямокутників : \",round (left_rec(f1,a,b,n), 4)) \n",
        "    \n",
        "def right_rec(f1,a,b,n): \n",
        "    h=(b-a)/n \n",
        "    sum=0 \n",
        "    for i in range(1,n+1): \n",
        "        sum+=f1(a+i*h) \n",
        "    return sum*h \n",
        "print(\"Метод правих прямокутників : \",round (right_rec(f1,a,b,10), 4)) \n",
        "def aver_rec(f1,a,b,n): \n",
        "    h=0.08 \n",
        "    sum=0 \n",
        "    for i in range(0,n): \n",
        "        sum+=f1(a+i*h) \n",
        "    return sum*h \n",
        "print(\"Метод середніх прямокутників : \",round (aver_rec(f1,a,b,10), 4)) \n",
        "print(\"Перевірка методів прямокутника = \",round (v, 4))"
      ]
    },
    {
      "cell_type": "code",
      "execution_count": null,
      "metadata": {},
      "outputs": [],
      "source": []
    },
    {
      "cell_type": "code",
      "execution_count": null,
      "metadata": {},
      "outputs": [],
      "source": []
    }
  ],
  "metadata": {
    "kernelspec": {
      "display_name": "Python (Pyodide)",
      "language": "python",
      "name": "python"
    },
    "language_info": {
      "codemirror_mode": {
        "name": "python",
        "version": 3
      },
      "file_extension": ".py",
      "mimetype": "text/x-python",
      "name": "python",
      "nbconvert_exporter": "python",
      "pygments_lexer": "ipython3",
      "version": "3.8"
    }
  },
  "nbformat": 4,
  "nbformat_minor": 4
}
