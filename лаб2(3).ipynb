{
  "cells": [
    {
      "cell_type": "code",
      "execution_count": 4,
      "metadata": {
        "trusted": true
      },
      "outputs": [
        {
          "name": "stdout",
          "output_type": "stream",
          "text": [
            "Found segment:  [-2, -1]\n",
            "Found segment:  [0, 1]\n",
            "x=  0.79092   -   Half division method\n"
          ]
        }
      ],
      "source": [
        "import math \n",
        "import numpy as np \n",
        "from scipy.misc import derivative \n",
        "def f(x): \n",
        "   return 9*pow(x, 4) + 8*pow(x,3) + 1.5*pow(x, 2) + 2*x - 10 \n",
        "eps=0.0001 \n",
        " \n",
        "def find_segments(): #відокремлюємо корені \n",
        "    search_range = np.arange(-10, 10, 1) \n",
        "     \n",
        "    a = None \n",
        "    previous_x = None \n",
        "    current_x  = None \n",
        "    segments = [] \n",
        " \n",
        "    for x in search_range: \n",
        "        x = round(x, 4) \n",
        "        current_x = f(x) \n",
        "        if previous_x != None and previous_x * current_x < 0: \n",
        "            segments.append((a, x)) \n",
        "        a = x \n",
        "        previous_x = current_x \n",
        "    return segments \n",
        " \n",
        "segments = find_segments() \n",
        "for a, b in segments: \n",
        "    print(f'Found segment:  [{a}, {b}]') \n",
        "def hord (a,b,eps): #метод хорд \n",
        "    if (f(a)*derivative(f,a,n=2)>0): \n",
        "        x0=a \n",
        "        xi=b \n",
        "    else: \n",
        "        x0=b \n",
        "     xi=a \n",
        "    xi_1=xi-(xi-x0)*f(xi)/(f(xi)-f(x0)) \n",
        "    while (abs(xi_1-xi)>eps): \n",
        "        xi=xi_1 \n",
        "        xi_1=xi-(xi-x0)*f(xi)/(f(xi)-f(x0)) \n",
        "    print('x= ', round (xi_1,5) , '  -   Chord method')\n",
        "a=0. #початок першого відрізка \n",
        "b=1. # кінець першого відрізка\n",
        "hord (a,b,eps) #викликаємо метод хорд для першого відрізка\n"
      ]
    },
    {
      "cell_type": "code",
      "execution_count": null,
      "metadata": {},
      "outputs": [],
      "source": []
    }
  ],
  "metadata": {
    "kernelspec": {
      "display_name": "Python (Pyodide)",
      "language": "python",
      "name": "python"
    },
    "language_info": {
      "codemirror_mode": {
        "name": "python",
        "version": 3
      },
      "file_extension": ".py",
      "mimetype": "text/x-python",
      "name": "python",
      "nbconvert_exporter": "python",
      "pygments_lexer": "ipython3",
      "version": "3.8"
    }
  },
  "nbformat": 4,
  "nbformat_minor": 4
}
