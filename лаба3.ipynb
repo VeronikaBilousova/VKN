{
  "cells": [
    {
      "cell_type": "code",
      "execution_count": 1,
      "metadata": {
        "trusted": true
      },
      "outputs": [
        {
          "name": "stdout",
          "output_type": "stream",
          "text": [
            "Відрізки які знайшли у попередній практичній:  [-2, -1]\n",
            "Відрізки які знайшли у попередній практичній:  [0, 1]\n",
            "Розв’язок нелінійного рівняння на відрізку [-2, -1]\n"
          ]
        },
        {
          "name": "stderr",
          "output_type": "stream",
          "text": [
            "<ipython-input-1-3392ac7577ac>:15: DeprecationWarning: scipy.misc.derivative is deprecated in SciPy v1.10.0; and will be completely removed in SciPy v1.12.0. You may consider using findiff: https://github.com/maroba/findiff or numdifftools: https://github.com/pbrod/numdifftools\n",
            "  df2 = derivative(f, b, n = 2)\n",
            "<ipython-input-1-3392ac7577ac>:20: DeprecationWarning: scipy.misc.derivative is deprecated in SciPy v1.10.0; and will be completely removed in SciPy v1.12.0. You may consider using findiff: https://github.com/maroba/findiff or numdifftools: https://github.com/pbrod/numdifftools\n",
            "  df = derivative(f,xi, n= 1)\n"
          ]
        },
        {
          "name": "stdout",
          "output_type": "stream",
          "text": [
            "Розв'язок рівняння методом Ньютона x =  -1.3451538212605074\n"
          ]
        },
        {
          "name": "stderr",
          "output_type": "stream",
          "text": [
            "<ipython-input-1-3392ac7577ac>:28: DeprecationWarning: scipy.misc.derivative is deprecated in SciPy v1.10.0; and will be completely removed in SciPy v1.12.0. You may consider using findiff: https://github.com/maroba/findiff or numdifftools: https://github.com/pbrod/numdifftools\n",
            "  if (derivative(f, a, n = 1)*derivative(f, a, n = 2)>0):\n",
            "<ipython-input-1-3392ac7577ac>:38: DeprecationWarning: scipy.misc.derivative is deprecated in SciPy v1.10.0; and will be completely removed in SciPy v1.12.0. You may consider using findiff: https://github.com/maroba/findiff or numdifftools: https://github.com/pbrod/numdifftools\n",
            "  bi_1 = bi - f(bi)/derivative(f,bi, n= 1)\n"
          ]
        },
        {
          "name": "stdout",
          "output_type": "stream",
          "text": [
            "Розв'язок рівняння комбінованим методом x =  -1.3447783870943364\n",
            "Розв’язок нелінійного рівняння на відрізку [0, 1]\n",
            "Розв'язок рівняння методом Ньютона x =  0.791084883401495\n",
            "Розв'язок рівняння комбінованим методом x =  0.79094363238486\n"
          ]
        }
      ],
      "source": [
        "import math \n",
        "import numpy as np \n",
        "from scipy.misc import derivative  \n",
        " \n",
        "def f(x):  \n",
        "   return 9*pow(x, 4) + 8*pow(x,3) + 1.5*pow(x, 2) + 2*x - 10 \n",
        "  \n",
        "eps=0.0001  \n",
        "segments = [[-2, -1],[0, 1]]  \n",
        " \n",
        "for a, b in segments:  \n",
        "    print(f'Відрізки які знайшли у попередній практичній роботі:  [{a}, {b}]')  \n",
        " \n",
        "def nuton(a,b,eps):  \n",
        "    df2 = derivative(f, b, n = 2)  \n",
        "    if (f(b)*df2>0):  \n",
        "        xi = b  \n",
        "    else:  \n",
        "        xi = a  \n",
        "    df = derivative(f,xi, n= 1)  \n",
        "    xi_1 = xi - f(xi)/df  \n",
        "    while (abs(xi_1 - xi)>eps):   \n",
        "        xi = xi_1  \n",
        "        xi_1 = xi - f(xi)/df  \n",
        "    return print (\"Розв'язок рівняння методом Ньютона x= \", xi_1)  \n",
        "     \n",
        "def komb(a,b,eps):  \n",
        "    if (derivative(f, a, n = 1)*derivative(f, a, n = 2)>0):  \n",
        "        a0 = a  \n",
        "        b0 = b  \n",
        "    else:  \n",
        "        a0 = b  \n",
        "        b0 = a  \n",
        "    ai = a0  \n",
        "    bi = b0  \n",
        "    while abs(ai-bi)>eps:     \n",
        "        ai_1 = ai -f(ai)*(bi - ai)/(f(bi) - f(ai))  \n",
        "        bi_1 = bi - f(bi)/derivative(f,bi, n= 1)   \n",
        "        ai = ai_1  \n",
        "        bi = bi_1  \n",
        "    x = (ai_1+bi_1)/2  \n",
        "    return print(\"Розв'язок рівняння комбінованим методом x= \", x)  \n",
        " \n",
        "for i in segments: \n",
        "    a = i[0] \n",
        "    b = i[1] \n",
        "    print (f'Розв’язок нелінійного рівняння на відрізку [{a}, {b}]') \n",
        "    nuton(a,b,eps) \n",
        "    komb(a,b,eps)"
      ]
    },
    {
      "cell_type": "code",
      "execution_count": null,
      "metadata": {},
      "outputs": [],
      "source": []
    },
    {
      "cell_type": "code",
      "execution_count": null,
      "metadata": {},
      "outputs": [],
      "source": []
    },
    {
      "cell_type": "code",
      "execution_count": null,
      "metadata": {},
      "outputs": [],
      "source": []
    }
  ],
  "metadata": {
    "kernelspec": {
      "display_name": "Python (Pyodide)",
      "language": "python",
      "name": "python"
    },
    "language_info": {
      "codemirror_mode": {
        "name": "python",
        "version": 3
      },
      "file_extension": ".py",
      "mimetype": "text/x-python",
      "name": "python",
      "nbconvert_exporter": "python",
      "pygments_lexer": "ipython3",
      "version": "3.8"
    }
  },
  "nbformat": 4,
  "nbformat_minor": 4
}
