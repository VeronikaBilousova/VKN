{
  "cells": [
    {
      "cell_type": "code",
      "execution_count": 1,
      "metadata": {
        "trusted": true
      },
      "outputs": [
        {
          "name": "stdout",
          "output_type": "stream",
          "text": [
            "Метод  трапеції: -0.21288\n",
            "Перевірка методу трапеції=  -0.21304\n"
          ]
        }
      ],
      "source": [
        "#Обчислення інтегралу методом трапецій\n",
        "from scipy import integrate \n",
        "import numpy as np\n",
        "\n",
        "# Задаємо функцію, яку необхідно інтегрувати\n",
        "def f(x):\n",
        "    return 1 / np.sqrt(x**2 + 2.3)\n",
        "\n",
        "\n",
        "# Задаємо межі інтегрування та початкову кількість розбиттів\n",
        "a = 0.66\n",
        "b = 0.32\n",
        "n = 20\n",
        "\n",
        "# Обчислюємо значення інтегралу методом трапецій\n",
        "def trapezoidal_rule(f, a, b, n):\n",
        "    h = (b - a) / n\n",
        "    x = a\n",
        "    sum = 0\n",
        "    for i in range(1, n):\n",
        "        x += h\n",
        "        sum += 2 * f(x)\n",
        "    sum += f(b)\n",
        "    integral = h / 2 * sum\n",
        "\n",
        "    return integral\n",
        "\n",
        "# Обчислюємо значення інтегралу методом трапецій\n",
        "#Перевірка точності за правилом Рунге\n",
        "integral1 = trapezoidal_rule(f, a, b, n)\n",
        "n *= 2\n",
        "integral2 = trapezoidal_rule(f, a, b, n)\n",
        "\n",
        "while abs(integral2 - integral1) / 3 > 0.0001:\n",
        "    integral1 = integral2\n",
        "    n *= 2\n",
        "    integral2 = trapezoidal_rule(f, a, b, n)\n",
        "\n",
        "# Виводимо результат\n",
        "print(\"Метод  трапеції:\", round(integral2, 5))\n",
        "\n",
        "v,err = integrate.quad(f,a,b) #Перевірка\n",
        "print(\"Перевірка методу трапеції= \",round(v, 5))"
      ]
    },
    {
      "cell_type": "code",
      "execution_count": null,
      "metadata": {},
      "outputs": [],
      "source": []
    }
  ],
  "metadata": {
    "kernelspec": {
      "display_name": "Python (Pyodide)",
      "language": "python",
      "name": "python"
    },
    "language_info": {
      "codemirror_mode": {
        "name": "python",
        "version": 3
      },
      "file_extension": ".py",
      "mimetype": "text/x-python",
      "name": "python",
      "nbconvert_exporter": "python",
      "pygments_lexer": "ipython3",
      "version": "3.8"
    }
  },
  "nbformat": 4,
  "nbformat_minor": 4
}
