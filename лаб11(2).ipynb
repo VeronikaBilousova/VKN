{
  "cells": [
    {
      "cell_type": "code",
      "execution_count": 1,
      "metadata": {
        "trusted": true
      },
      "outputs": [
        {
          "name": "stdout",
          "output_type": "stream",
          "text": [
            "Метод Сімпсона : 0.6484\n",
            "Перевірка методу Сімпсона=  0.6484\n"
          ]
        }
      ],
      "source": [
        "#Обчислення інтеграла методом Симпсона\n",
        "from scipy import integrate \n",
        "import numpy as np\n",
        "\n",
        "# Задаємо функцію, яку необхідно інтегрувати\n",
        "\n",
        "def f(x):\n",
        "    return np.log(x + 2) / x\n",
        "\n",
        "\n",
        "# Задаємо межі інтегрування та початкову кількість розбиттів\n",
        "a = 1.2\n",
        "b = 2\n",
        "n = 8\n",
        "\n",
        "# Обчислюємо значення інтегралу методом Симпсона\n",
        "def simpson_rule(f, a, b, n):\n",
        "    h = (b - a) / n \n",
        "    integr = f(a) + f(b) \n",
        "    for i in range(1,n): \n",
        "        k = a + i*h \n",
        "        if i%2 == 0: \n",
        "            integr += 2 * f(k) \n",
        "        else: \n",
        "            integr += 4 * f(k) \n",
        "    integr *= h/3 \n",
        "    return integr \n",
        "\n",
        "# Обчислюємо значення інтегралу методом Сімпсона\n",
        "integral1 = simpson_rule(f, a, b, n)\n",
        "n *= 2\n",
        "integral2 = simpson_rule(f, a, b, n)\n",
        "while abs(integral2 - integral1) / 15 > 0.0001:\n",
        "    integral1 = integral2\n",
        "    n *= 2\n",
        "    integral2 = simpson_rule(f, a, b, n)\n",
        "# Виводимо результат\n",
        "print(\"Метод Сімпсона :\", round(integral2, 4))\n",
        "\n",
        "v,err = integrate.quad(f,a,b)#Перевірка \n",
        "print(\"Перевірка методу Сімпсона= \",round(v, 4))"
      ]
    },
    {
      "cell_type": "code",
      "execution_count": null,
      "metadata": {},
      "outputs": [],
      "source": []
    }
  ],
  "metadata": {
    "kernelspec": {
      "display_name": "Python (Pyodide)",
      "language": "python",
      "name": "python"
    },
    "language_info": {
      "codemirror_mode": {
        "name": "python",
        "version": 3
      },
      "file_extension": ".py",
      "mimetype": "text/x-python",
      "name": "python",
      "nbconvert_exporter": "python",
      "pygments_lexer": "ipython3",
      "version": "3.8"
    }
  },
  "nbformat": 4,
  "nbformat_minor": 4
}
